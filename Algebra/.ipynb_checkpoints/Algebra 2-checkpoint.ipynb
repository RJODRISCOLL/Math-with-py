{
 "cells": [
  {
   "cell_type": "code",
   "execution_count": 1,
   "metadata": {},
   "outputs": [],
   "source": [
    "import numpy as np\n",
    "import matplotlib.pyplot as plt\n",
    "import sympy as sym\n",
    "from IPython.display import display, Math \n",
    "import scipy as sp"
   ]
  },
  {
   "cell_type": "code",
   "execution_count": 2,
   "metadata": {},
   "outputs": [],
   "source": [
    "lst = [1,2,3,4,5]"
   ]
  },
  {
   "cell_type": "code",
   "execution_count": 3,
   "metadata": {},
   "outputs": [
    {
     "data": {
      "text/plain": [
       "15"
      ]
     },
     "execution_count": 3,
     "metadata": {},
     "output_type": "execute_result"
    }
   ],
   "source": [
    "# cap pi \n",
    "# sigma not\n",
    "# cuml sum\n",
    "\n",
    "np.sum(lst)"
   ]
  },
  {
   "cell_type": "code",
   "execution_count": 4,
   "metadata": {},
   "outputs": [
    {
     "data": {
      "text/plain": [
       "120"
      ]
     },
     "execution_count": 4,
     "metadata": {},
     "output_type": "execute_result"
    }
   ],
   "source": [
    "np.prod(lst)"
   ]
  },
  {
   "cell_type": "code",
   "execution_count": 5,
   "metadata": {},
   "outputs": [
    {
     "data": {
      "text/plain": [
       "array([ 1,  3,  6, 10, 15], dtype=int32)"
      ]
     },
     "execution_count": 5,
     "metadata": {},
     "output_type": "execute_result"
    }
   ],
   "source": [
    "np.cumsum(lst)"
   ]
  },
  {
   "cell_type": "code",
   "execution_count": 6,
   "metadata": {},
   "outputs": [
    {
     "data": {
      "image/png": "[encoded data removed]",
      "text/plain": [
       "<Figure size 432x288 with 1 Axes>"
      ]
     },
     "metadata": {
      "needs_background": "light"
     },
     "output_type": "display_data"
    }
   ],
   "source": [
    "plt.plot(lst, 'r-')\n",
    "plt.plot(np.cumsum(lst), 'g-')\n",
    "\n",
    "plt.show()"
   ]
  },
  {
   "cell_type": "code",
   "execution_count": 7,
   "metadata": {},
   "outputs": [
    {
     "data": {
      "text/plain": [
       "False"
      ]
     },
     "execution_count": 7,
     "metadata": {},
     "output_type": "execute_result"
    }
   ],
   "source": [
    "# ex\n",
    "a = np.arange(1,6)\n",
    "(np.sum(a)/np.sum(a**2)) == 1/np.sum(a)"
   ]
  },
  {
   "cell_type": "code",
   "execution_count": 8,
   "metadata": {},
   "outputs": [
    {
     "data": {
      "text/plain": [
       "True"
      ]
     },
     "execution_count": 8,
     "metadata": {},
     "output_type": "execute_result"
    }
   ],
   "source": [
    "(np.prod(a)/np.prod(a**2)) == 1/np.prod(a)"
   ]
  },
  {
   "cell_type": "code",
   "execution_count": 9,
   "metadata": {},
   "outputs": [
    {
     "data": {
      "text/plain": [
       "array([1, 1, 1, 1, 1, 1])"
      ]
     },
     "execution_count": 9,
     "metadata": {},
     "output_type": "execute_result"
    }
   ],
   "source": [
    "# Discreet difrerences \n",
    "# yt - xt+1 -xt\n",
    "x = [1,2,3,4,5,6,7]\n",
    "np.diff(x) # implements to dd operator"
   ]
  },
  {
   "cell_type": "code",
   "execution_count": 10,
   "metadata": {},
   "outputs": [
    {
     "data": {
      "image/png": "[encoded data removed]",
      "text/plain": [
       "<Figure size 432x288 with 1 Axes>"
      ]
     },
     "metadata": {
      "needs_background": "light"
     },
     "output_type": "display_data"
    }
   ],
   "source": [
    "x = np.linspace(-2,2, 101)\n",
    "fx = x**2\n",
    "d = np.diff(fx)\n",
    "\n",
    "plt.plot(x, fx, label = 'f')\n",
    "plt.plot(x[0:-1], d, 'r', label = 'df')\n",
    "plt.grid()\n",
    "plt.title('desc difference operator vs fx ')\n",
    "plt.legend()\n",
    "plt.show()\n"
   ]
  },
  {
   "cell_type": "code",
   "execution_count": 11,
   "metadata": {},
   "outputs": [
    {
     "name": "stdout",
     "output_type": "stream",
     "text": [
      "[-1.          0.33333333]\n"
     ]
    }
   ],
   "source": [
    "# POLYNOMIAL ROOTS \n",
    "# 3X^2 -2X-1\n",
    "from IPython.display import display, Math \n",
    "\n",
    "coefs = [3,2,-1] # coefs in order \n",
    "roots = np.roots(coefs) # set to 0 solve for x -> roots\n",
    "print(roots)"
   ]
  },
  {
   "cell_type": "code",
   "execution_count": 12,
   "metadata": {},
   "outputs": [],
   "source": [
    "x=sym.symbols('x')\n",
    "pn = 3* x**2 + 2*x - 1"
   ]
  },
  {
   "cell_type": "code",
   "execution_count": 13,
   "metadata": {},
   "outputs": [
    {
     "data": {
      "text/latex": [
       "$\\displaystyle \\text{At } x=-1, \\quad 3 x^{2} + 2 x - 1= 0$"
      ],
      "text/plain": [
       "<IPython.core.display.Math object>"
      ]
     },
     "metadata": {},
     "output_type": "display_data"
    },
    {
     "data": {
      "text/latex": [
       "$\\displaystyle \\text{At } x=0.333333, \\quad 3 x^{2} + 2 x - 1= -5.55112e-17$"
      ],
      "text/plain": [
       "<IPython.core.display.Math object>"
      ]
     },
     "metadata": {},
     "output_type": "display_data"
    }
   ],
   "source": [
    "for i in roots:\n",
    "    display(Math('\\\\text{At } x=%g, \\\\quad %s= %g' %(i, \n",
    "                                                     sym.latex(pn), \n",
    "                                                     pn.subs(x,i))))"
   ]
  },
  {
   "cell_type": "code",
   "execution_count": 14,
   "metadata": {},
   "outputs": [
    {
     "name": "stdout",
     "output_type": "stream",
     "text": [
      "(-1.1666666666666665+0.5527707983925666j) (-1.1666666666666665-0.5527707983925666j)\n"
     ]
    },
    {
     "name": "stderr",
     "output_type": "stream",
     "text": [
      "C:\\Users\\ruair\\cond\\Miniconda3\\lib\\site-packages\\ipykernel_launcher.py:9: DeprecationWarning: scipy.sqrt is deprecated and will be removed in SciPy 2.0.0, use numpy.lib.scimath.sqrt instead\n",
      "  if __name__ == '__main__':\n",
      "C:\\Users\\ruair\\cond\\Miniconda3\\lib\\site-packages\\ipykernel_launcher.py:10: DeprecationWarning: scipy.sqrt is deprecated and will be removed in SciPy 2.0.0, use numpy.lib.scimath.sqrt instead\n",
      "  # Remove the CWD from sys.path while we load stuff.\n"
     ]
    }
   ],
   "source": [
    "# quadratic equation \n",
    "# ax^2 + bx + c = 0 \n",
    "# \n",
    "\n",
    "a=3\n",
    "b=7\n",
    "c=5\n",
    "\n",
    "equadeqP = (-b + sp.sqrt(b**2 - 4*a*c))/(2*a)\n",
    "equadeqN = (-b - sp.sqrt(b**2 - 4*a*c))/(2*a)\n",
    "\n",
    "print(equadeqP, equadeqN)"
   ]
  },
  {
   "cell_type": "code",
   "execution_count": 15,
   "metadata": {},
   "outputs": [],
   "source": [
    "def quadeq(a,b,c):\n",
    "    out = sp.zeros(2)\n",
    "    out[0] = (-b + sp.sqrt(b**2 - 4*a*c))/(2*a) # pos sol\n",
    "    out[1] = (-b - sp.sqrt(b**2 - 4*a*c))/(2*a) # neg sol\n",
    "    \n",
    "    return out\n",
    "\n",
    "    "
   ]
  },
  {
   "cell_type": "code",
   "execution_count": 16,
   "metadata": {},
   "outputs": [
    {
     "name": "stderr",
     "output_type": "stream",
     "text": [
      "C:\\Users\\ruair\\cond\\Miniconda3\\lib\\site-packages\\ipykernel_launcher.py:2: DeprecationWarning: scipy.zeros is deprecated and will be removed in SciPy 2.0.0, use numpy.zeros instead\n",
      "  \n",
      "C:\\Users\\ruair\\cond\\Miniconda3\\lib\\site-packages\\ipykernel_launcher.py:3: DeprecationWarning: scipy.sqrt is deprecated and will be removed in SciPy 2.0.0, use numpy.lib.scimath.sqrt instead\n",
      "  This is separate from the ipykernel package so we can avoid doing imports until\n",
      "C:\\Users\\ruair\\cond\\Miniconda3\\lib\\site-packages\\ipykernel_launcher.py:3: ComplexWarning: Casting complex values to real discards the imaginary part\n",
      "  This is separate from the ipykernel package so we can avoid doing imports until\n",
      "C:\\Users\\ruair\\cond\\Miniconda3\\lib\\site-packages\\ipykernel_launcher.py:4: DeprecationWarning: scipy.sqrt is deprecated and will be removed in SciPy 2.0.0, use numpy.lib.scimath.sqrt instead\n",
      "  after removing the cwd from sys.path.\n",
      "C:\\Users\\ruair\\cond\\Miniconda3\\lib\\site-packages\\ipykernel_launcher.py:4: ComplexWarning: Casting complex values to real discards the imaginary part\n",
      "  after removing the cwd from sys.path.\n"
     ]
    },
    {
     "data": {
      "text/plain": [
       "array([-1.25, -1.25])"
      ]
     },
     "execution_count": 16,
     "metadata": {},
     "output_type": "execute_result"
    }
   ],
   "source": [
    "quadeq(2,5,6)"
   ]
  },
  {
   "cell_type": "code",
   "execution_count": 17,
   "metadata": {},
   "outputs": [
    {
     "name": "stderr",
     "output_type": "stream",
     "text": [
      "C:\\Users\\ruair\\cond\\Miniconda3\\lib\\site-packages\\ipykernel_launcher.py:2: DeprecationWarning: scipy.zeros is deprecated and will be removed in SciPy 2.0.0, use numpy.zeros instead\n",
      "  \n",
      "C:\\Users\\ruair\\cond\\Miniconda3\\lib\\site-packages\\ipykernel_launcher.py:3: DeprecationWarning: scipy.sqrt is deprecated and will be removed in SciPy 2.0.0, use numpy.lib.scimath.sqrt instead\n",
      "  This is separate from the ipykernel package so we can avoid doing imports until\n",
      "C:\\Users\\ruair\\cond\\Miniconda3\\lib\\site-packages\\ipykernel_launcher.py:4: DeprecationWarning: scipy.sqrt is deprecated and will be removed in SciPy 2.0.0, use numpy.lib.scimath.sqrt instead\n",
      "  after removing the cwd from sys.path.\n",
      "C:\\Users\\ruair\\cond\\Miniconda3\\lib\\site-packages\\ipykernel_launcher.py:3: ComplexWarning: Casting complex values to real discards the imaginary part\n",
      "  This is separate from the ipykernel package so we can avoid doing imports until\n",
      "C:\\Users\\ruair\\cond\\Miniconda3\\lib\\site-packages\\ipykernel_launcher.py:4: ComplexWarning: Casting complex values to real discards the imaginary part\n",
      "  after removing the cwd from sys.path.\n"
     ]
    },
    {
     "data": {
      "image/png": "[encoded data removed]",
      "text/plain": [
       "<Figure size 432x288 with 1 Axes>"
      ]
     },
     "metadata": {
      "needs_background": "light"
     },
     "output_type": "display_data"
    }
   ],
   "source": [
    "a= 1\n",
    "b= range(-5,6)\n",
    "c = range(-2, 10)\n",
    "\n",
    "M = np.zeros((len(b), len(c)))\n",
    "\n",
    "for i in range(0, len(b)):\n",
    "    for j in range(0, len(c)):\n",
    "        M[i, j] = quadeq(a, b[i], c[j])[0]\n",
    "        \n",
    "        \n",
    "plt.imshow(M)\n",
    "plt.xlabel('c')\n",
    "plt.ylabel('b')\n",
    "plt.show()"
   ]
  },
  {
   "cell_type": "code",
   "execution_count": 18,
   "metadata": {},
   "outputs": [
    {
     "name": "stdout",
     "output_type": "stream",
     "text": [
      "1j\n"
     ]
    }
   ],
   "source": [
    "# complex numbers \n",
    "# z + w = (a + c) (b+d)i\n",
    "\n",
    "print(np.sqrt(-1, dtype = 'complex'))"
   ]
  },
  {
   "cell_type": "code",
   "execution_count": 19,
   "metadata": {},
   "outputs": [
    {
     "name": "stdout",
     "output_type": "stream",
     "text": [
      "(4-5j)\n",
      "real 4.0\n",
      "imag -5.0\n"
     ]
    }
   ],
   "source": [
    "real = 4\n",
    "img = -5\n",
    "\n",
    "cn1 = np.complex(real, img)\n",
    "print(cn1) # j notation\n",
    "\n",
    "extract_real  = np.real(cn1)\n",
    "extract_imag = np.imag(cn1)\n",
    "\n",
    "print('real',extract_real)\n",
    "print('imag',extract_imag)\n"
   ]
  },
  {
   "cell_type": "code",
   "execution_count": 20,
   "metadata": {},
   "outputs": [
    {
     "data": {
      "text/latex": [
       "$\\displaystyle a - i b$"
      ],
      "text/plain": [
       "a - I*b"
      ]
     },
     "execution_count": 20,
     "metadata": {},
     "output_type": "execute_result"
    }
   ],
   "source": [
    "a,b = sym.symbols('a, b', real= True)\n",
    "z = a + b*sym.I\n",
    "sym.conjugate(z)"
   ]
  },
  {
   "cell_type": "code",
   "execution_count": 21,
   "metadata": {},
   "outputs": [
    {
     "data": {
      "text/latex": [
       "$\\displaystyle \\frac{(4+2j)}{2} = (2+1j)$"
      ],
      "text/plain": [
       "<IPython.core.display.Math object>"
      ]
     },
     "metadata": {},
     "output_type": "display_data"
    }
   ],
   "source": [
    "z = np.complex(4,2)\n",
    "\n",
    "display(Math('\\\\frac{%s}{2} = %s' %(z,z/2)))"
   ]
  },
  {
   "cell_type": "code",
   "execution_count": 22,
   "metadata": {},
   "outputs": [
    {
     "data": {
      "text/latex": [
       "$\\displaystyle \\frac{(4+2j)}{(4-3j)} = \\frac{(4+2j) \\times (4+3j)}{(4-3j) \\times (4+3j)} = 0.4 + 0.8*I$"
      ],
      "text/plain": [
       "<IPython.core.display.Math object>"
      ]
     },
     "metadata": {},
     "output_type": "display_data"
    }
   ],
   "source": [
    "z1 = np.complex(4,2)\n",
    "z2 = np.complex(4,-3)\n",
    "\n",
    "display(Math('\\\\frac{%s}{%s} = \\\\frac{%s \\\\times %s}{%s \\\\times %s} = %s' \n",
    "             %(z1,z2, z1,np.conj(z2), z2, np.conj(z2), sym.sympify(z1/z2))))"
   ]
  },
  {
   "cell_type": "markdown",
   "metadata": {},
   "source": [
    "# Solve complex number exercise"
   ]
  },
  {
   "cell_type": "code",
   "execution_count": 23,
   "metadata": {},
   "outputs": [
    {
     "data": {
      "text/latex": [
       "$\\displaystyle \\frac{(-47+103j)}{(-1+21j)} \\times \\frac{(21-20j)}{(145-58j)}= 1.00000000000000$"
      ],
      "text/plain": [
       "<IPython.core.display.Math object>"
      ]
     },
     "metadata": {},
     "output_type": "display_data"
    }
   ],
   "source": [
    "z = np.complex(4,2)\n",
    "w = np.complex(3,5)\n",
    "e1 = (z -1)*(z*w+w)\n",
    "e2 = (w*z - w)\n",
    "e3 = (w-1) * (1-w)\n",
    "e4 = (-z*w**2)-(w**2)+(2*w*z)+(2*w)-z-1\n",
    "\n",
    "\n",
    "display(Math('\\\\frac{%s}{%s} \\\\times \\\\frac{%s}{%s}= %s' \n",
    "             %(e1,e2, e3, e4, sym.sympify((e1/e2) * (e3/e4)))))"
   ]
  },
  {
   "cell_type": "markdown",
   "metadata": {},
   "source": [
    "# Graphing complex numbers"
   ]
  },
  {
   "cell_type": "code",
   "execution_count": 24,
   "metadata": {},
   "outputs": [
    {
     "data": {
      "image/png": "[encoded data removed]",
      "text/plain": [
       "<Figure size 432x288 with 1 Axes>"
      ]
     },
     "metadata": {
      "needs_background": "light"
     },
     "output_type": "display_data"
    }
   ],
   "source": [
    "z = np.complex(3,4)\n",
    "plt.plot(np.real(z), np.imag(z), 'ro')\n",
    "plt.grid()\n",
    "plt.xlabel('real')\n",
    "plt.ylabel('imag')\n",
    "plt.show()"
   ]
  },
  {
   "cell_type": "code",
   "execution_count": 25,
   "metadata": {},
   "outputs": [
    {
     "data": {
      "image/png": "[encoded data removed]",
      "text/plain": [
       "<Figure size 432x288 with 1 Axes>"
      ]
     },
     "metadata": {
      "needs_background": "light"
     },
     "output_type": "display_data"
    }
   ],
   "source": [
    "z1 = np.complex(-3,1)\n",
    "z2 = np.complex(-1,1)\n",
    "\n",
    "z1p2 = z1 + z2\n",
    "\n",
    "z1tp2 = z1 * z2\n",
    "z1dp2 = z1 /z2\n",
    "\n",
    "\n",
    "plt.plot([0, np.real(z1)], [0, np.imag(z1)], label = 'z1')\n",
    "plt.plot([0, np.real(z2)], [0, np.imag(z2)], label = 'z2')\n",
    "plt.plot([0, np.real(z1p2)], [0, np.imag(z1p2)], label = 'z1+z2')\n",
    "plt.plot([0, np.real(z1tp2)], [0, np.imag(z1tp2)], label = 'z1*z2')\n",
    "plt.plot([0, np.real(z1dp2)], [0, np.imag(z1dp2)], label = 'z1/z2')\n",
    "\n",
    "\n",
    "plt.grid()\n",
    "plt.xlabel('real')\n",
    "plt.ylabel('imag')\n",
    "plt.axis('square')\n",
    "plt.legend()\n",
    "plt.axis([-6, 6, -6,6])\n",
    "\n",
    "plt.show()\n"
   ]
  },
  {
   "cell_type": "code",
   "execution_count": 26,
   "metadata": {},
   "outputs": [
    {
     "data": {
      "image/png": "[encoded data removed]",
      "text/plain": [
       "<Figure size 432x288 with 1 Axes>"
      ]
     },
     "metadata": {
      "needs_background": "light"
     },
     "output_type": "display_data"
    }
   ],
   "source": [
    "# Unit circle (circle 1)\n",
    "x = np.linspace(0, 2*np.pi, 200)\n",
    "\n",
    "a1 = np.pi/4\n",
    "plt.plot(np.cos(x), np.sin(x), 'k')\n",
    "\n",
    "plt.plot([0, np.cos(a1)], [0, np.sin(a1)], 'r')\n",
    "\n",
    "plt.grid()\n",
    "plt.axis('square')\n",
    "plt.axis([-1.1,1.1,-1.1, 1.1])\n",
    "plt.xlabel('cos(x)')\n",
    "plt.ylabel('sin(x)')\n",
    "\n",
    "plt.show()"
   ]
  },
  {
   "cell_type": "markdown",
   "metadata": {},
   "source": [
    "# Natural exponent and log"
   ]
  },
  {
   "cell_type": "code",
   "execution_count": 28,
   "metadata": {},
   "outputs": [
    {
     "data": {
      "text/plain": [
       "Text(0, 0.5, 'e**x')"
      ]
     },
     "execution_count": 28,
     "metadata": {},
     "output_type": "execute_result"
    },
    {
     "data": {
      "image/png": "[encoded data removed]",
      "text/plain": [
       "<Figure size 432x288 with 1 Axes>"
      ]
     },
     "metadata": {
      "needs_background": "light"
     },
     "output_type": "display_data"
    }
   ],
   "source": [
    "x= np.linspace(-3,3,99)\n",
    "plt.plot(x, np.exp(x))   \n",
    "plt.xlabel('x')\n",
    "plt.ylabel('e**x')"
   ]
  },
  {
   "cell_type": "code",
   "execution_count": 30,
   "metadata": {},
   "outputs": [
    {
     "name": "stderr",
     "output_type": "stream",
     "text": [
      "C:\\Users\\ruair\\cond\\Miniconda3\\lib\\site-packages\\ipykernel_launcher.py:1: RuntimeWarning: divide by zero encountered in log\n",
      "  \"\"\"Entry point for launching an IPython kernel.\n",
      "C:\\Users\\ruair\\cond\\Miniconda3\\lib\\site-packages\\ipykernel_launcher.py:1: RuntimeWarning: invalid value encountered in log\n",
      "  \"\"\"Entry point for launching an IPython kernel.\n"
     ]
    },
    {
     "data": {
      "text/plain": [
       "Text(0, 0.5, 'log(x)')"
      ]
     },
     "execution_count": 30,
     "metadata": {},
     "output_type": "execute_result"
    },
    {
     "data": {
      "image/png": "[encoded data removed]",
      "text/plain": [
       "<Figure size 432x288 with 1 Axes>"
      ]
     },
     "metadata": {
      "needs_background": "light"
     },
     "output_type": "display_data"
    }
   ],
   "source": [
    "plt.plot(x, np.log(x), 'r')   \n",
    "plt.xlabel('x')\n",
    "plt.ylabel('log(x)')"
   ]
  },
  {
   "cell_type": "code",
   "execution_count": 37,
   "metadata": {},
   "outputs": [
    {
     "data": {
      "image/png": "[encoded data removed]",
      "text/plain": [
       "<Figure size 432x288 with 1 Axes>"
      ]
     },
     "metadata": {
      "needs_background": "light"
     },
     "output_type": "display_data"
    }
   ],
   "source": [
    "x= np.linspace(0.001,10,10)\n",
    "\n",
    "\n",
    "plt.plot(x, np.log(np.exp(x)), label = '$\\\\log(e^x)$')   \n",
    "plt.plot(x, np.exp(np.log(x)), 'o', label = '$e^{log(x)}$')   \n",
    "plt.legend()\n",
    "plt.show()"
   ]
  },
  {
   "cell_type": "code",
   "execution_count": null,
   "metadata": {},
   "outputs": [],
   "source": []
  }
 ],
 "metadata": {
  "kernelspec": {
   "display_name": "Python 3",
   "language": "python",
   "name": "python3"
  },
  "language_info": {
   "codemirror_mode": {
    "name": "ipython",
    "version": 3
   },
   "file_extension": ".py",
   "mimetype": "text/x-python",
   "name": "python",
   "nbconvert_exporter": "python",
   "pygments_lexer": "ipython3",
   "version": "3.7.3"
  }
 },
 "nbformat": 4,
 "nbformat_minor": 2
}
