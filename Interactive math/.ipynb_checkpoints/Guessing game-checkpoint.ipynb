{
 "cells": [
  {
   "cell_type": "markdown",
   "metadata": {},
   "source": [
    "# create guess the number game!"
   ]
  },
  {
   "cell_type": "code",
   "execution_count": 1,
   "metadata": {},
   "outputs": [],
   "source": [
    "import random"
   ]
  },
  {
   "cell_type": "code",
   "execution_count": 16,
   "metadata": {},
   "outputs": [],
   "source": [
    "def guess_number():\n",
    "    # select ranges \n",
    "    mi = float(input('select your miniminum range: '))\n",
    "    ma = float(input('select your maximum range: '))\n",
    "    n = random.randint(mi,ma)\n",
    "    guess = float(input('guess a number between %g and %g ' %(mi, ma)))\n",
    "    \n",
    "    #add a counter\n",
    "    counter = 1\n",
    "    \n",
    "    while guess != n:\n",
    "        # add a count\n",
    "        counter+=1\n",
    "        # give tips\n",
    "        if guess > n: \n",
    "            print('Guess lower...')\n",
    "        elif guess < n:\n",
    "            print('Guess higher...')\n",
    "            \n",
    "        \n",
    "        # guess again\n",
    "        guess = float(input('Guess again: '))\n",
    "\n",
    "   \n",
    "    # print correct message\n",
    "    print('Great! you got it, it took %g attempts!' %(counter))"
   ]
  },
  {
   "cell_type": "markdown",
   "metadata": {},
   "source": [
    "# evaluate game"
   ]
  },
  {
   "cell_type": "code",
   "execution_count": 18,
   "metadata": {},
   "outputs": [
    {
     "name": "stdout",
     "output_type": "stream",
     "text": [
      "select your miniminum range: 1\n",
      "select your maximum range: 5\n",
      "guess a number between 1 and 5 3\n",
      "Guess lower...\n",
      "Guess again: 2\n",
      "Guess lower...\n",
      "Guess again: 1\n",
      "Great! you got it, it took 3 attempts!\n"
     ]
    }
   ],
   "source": [
    "guess_number()"
   ]
  }
 ],
 "metadata": {
  "kernelspec": {
   "display_name": "Python 3",
   "language": "python",
   "name": "python3"
  },
  "language_info": {
   "codemirror_mode": {
    "name": "ipython",
    "version": 3
   },
   "file_extension": ".py",
   "mimetype": "text/x-python",
   "name": "python",
   "nbconvert_exporter": "python",
   "pygments_lexer": "ipython3",
   "version": "3.7.3"
  }
 },
 "nbformat": 4,
 "nbformat_minor": 4
}
