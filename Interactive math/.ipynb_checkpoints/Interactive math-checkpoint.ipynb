{
 "cells": [
  {
   "cell_type": "code",
   "execution_count": 1,
   "metadata": {},
   "outputs": [],
   "source": [
    "def compute_rem(x,y):\n",
    "    div = int(x/y)\n",
    "    rem = x%y\n",
    "    \n",
    "    print('%g goes into %g, %g times with a remainder of %g' %(y, x, div, rem))"
   ]
  },
  {
   "cell_type": "code",
   "execution_count": 2,
   "metadata": {},
   "outputs": [
    {
     "name": "stdout",
     "output_type": "stream",
     "text": [
      "1.9 goes into 100, 52 times with a remainder of 1.2\n"
     ]
    }
   ],
   "source": [
    "compute_rem(100, 1.9)"
   ]
  },
  {
   "cell_type": "code",
   "execution_count": 3,
   "metadata": {},
   "outputs": [
    {
     "name": "stdout",
     "output_type": "stream",
     "text": [
      "input a number 50\n"
     ]
    }
   ],
   "source": [
    "a = int(input('input a number '))"
   ]
  },
  {
   "cell_type": "markdown",
   "metadata": {},
   "source": [
    "# interactive modulus function"
   ]
  },
  {
   "cell_type": "code",
   "execution_count": 4,
   "metadata": {},
   "outputs": [],
   "source": [
    "def interactive_div():\n",
    "    \n",
    "    x = float(input('input a numerator '))\n",
    "    y = float(input('input a denominator '))\n",
    "    \n",
    "    div = int(x/y)\n",
    "    rem = x%y\n",
    "    \n",
    "    print('%g goes into %g, %g times with a remainder of %g' %(y, x, div, rem))"
   ]
  },
  {
   "cell_type": "code",
   "execution_count": 5,
   "metadata": {},
   "outputs": [
    {
     "name": "stdout",
     "output_type": "stream",
     "text": [
      "input a numerator 10\n",
      "input a denominator 3\n",
      "3 goes into 10, 3 times with a remainder of 1\n"
     ]
    }
   ],
   "source": [
    "interactive_div()"
   ]
  },
  {
   "cell_type": "code",
   "execution_count": 6,
   "metadata": {},
   "outputs": [],
   "source": [
    "# create func\n",
    "from IPython.display import display, Math\n"
   ]
  },
  {
   "cell_type": "markdown",
   "metadata": {},
   "source": [
    "# interactive calculator"
   ]
  },
  {
   "cell_type": "code",
   "execution_count": 8,
   "metadata": {},
   "outputs": [],
   "source": [
    "\n",
    "def powers(x,y):\n",
    "    display(Math('%g^{%g} = %g' %(x,y,x**y)))\n",
    "    \n",
    "def divis(x,y):\n",
    "    display(Math('\\\\frac{%g}{%g} = %g' %(x,y,x/y)))\n",
    "    \n",
    "def mainfunc():\n",
    "    x=float(input('Input X: '))\n",
    "    y=float(input('Input Y: '))\n",
    "    display(Math('\\\\text{Press 1 to compute } %g^{%g} \\\\text{or press 2 to compute }\\\\frac{%g}{%g} ' %(x,y, x,y)))\n",
    "    switch = input('')\n",
    "    \n",
    "    \n",
    "    # now define the switch\n",
    "    if switch =='1':\n",
    "        powers(x,y)\n",
    "    if switch =='2':\n",
    "        divis(x,y)\n",
    "    else:\n",
    "        print('You must select 1 or 2!')\n",
    "    \n",
    "    "
   ]
  },
  {
   "cell_type": "code",
   "execution_count": 9,
   "metadata": {},
   "outputs": [
    {
     "data": {
      "text/latex": [
       "$\\displaystyle 2^{4} = 16$"
      ],
      "text/plain": [
       "<IPython.core.display.Math object>"
      ]
     },
     "metadata": {},
     "output_type": "display_data"
    },
    {
     "data": {
      "text/latex": [
       "$\\displaystyle \\frac{2}{4} = 0.5$"
      ],
      "text/plain": [
       "<IPython.core.display.Math object>"
      ]
     },
     "metadata": {},
     "output_type": "display_data"
    }
   ],
   "source": [
    "powers(2,4)\n",
    "divis(2,4)"
   ]
  },
  {
   "cell_type": "code",
   "execution_count": 11,
   "metadata": {},
   "outputs": [
    {
     "name": "stdout",
     "output_type": "stream",
     "text": [
      "Input X: 10\n",
      "Input Y: 6.7\n"
     ]
    },
    {
     "data": {
      "text/latex": [
       "$\\displaystyle \\text{Press 1 to compute } 10^{6.7} \\text{or press 2 to compute }\\frac{10}{6.7} $"
      ],
      "text/plain": [
       "<IPython.core.display.Math object>"
      ]
     },
     "metadata": {},
     "output_type": "display_data"
    },
    {
     "name": "stdout",
     "output_type": "stream",
     "text": [
      " 2\n"
     ]
    },
    {
     "data": {
      "text/latex": [
       "$\\displaystyle \\frac{10}{6.7} = 1.49254$"
      ],
      "text/plain": [
       "<IPython.core.display.Math object>"
      ]
     },
     "metadata": {},
     "output_type": "display_data"
    }
   ],
   "source": [
    "mainfunc()"
   ]
  },
  {
   "cell_type": "code",
   "execution_count": null,
   "metadata": {},
   "outputs": [],
   "source": []
  }
 ],
 "metadata": {
  "kernelspec": {
   "display_name": "Python 3",
   "language": "python",
   "name": "python3"
  },
  "language_info": {
   "codemirror_mode": {
    "name": "ipython",
    "version": 3
   },
   "file_extension": ".py",
   "mimetype": "text/x-python",
   "name": "python",
   "nbconvert_exporter": "python",
   "pygments_lexer": "ipython3",
   "version": "3.7.3"
  }
 },
 "nbformat": 4,
 "nbformat_minor": 4
}
