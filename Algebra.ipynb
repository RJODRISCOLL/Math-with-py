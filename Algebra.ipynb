{
 "cells": [
  {
   "cell_type": "code",
   "execution_count": 1,
   "metadata": {},
   "outputs": [],
   "source": [
    "import sympy as sym\n",
    "import numpy as np\n",
    "from IPython.display import display, Math"
   ]
  },
  {
   "cell_type": "code",
   "execution_count": 2,
   "metadata": {},
   "outputs": [
    {
     "data": {
      "text/plain": [
       "[5/2]"
      ]
     },
     "execution_count": 2,
     "metadata": {},
     "output_type": "execute_result"
    }
   ],
   "source": [
    "# solve for x\n",
    "x=sym.symbols('x')\n",
    "expr = 2*x + 4-9\n",
    "sym.solve(expr)"
   ]
  },
  {
   "cell_type": "code",
   "execution_count": 3,
   "metadata": {},
   "outputs": [
    {
     "name": "stdout",
     "output_type": "stream",
     "text": [
      "Solution #1 is -2\n",
      "Solution #2 is 2\n"
     ]
    }
   ],
   "source": [
    "exp = x**2 -4\n",
    "sol=sym.solve(exp)\n",
    "\n",
    "for i in range(0, len(sol)):\n",
    "    print('Solution #' + str(i+1) + ' is ' + str(sol[i]))\n"
   ]
  },
  {
   "cell_type": "code",
   "execution_count": 4,
   "metadata": {},
   "outputs": [
    {
     "data": {
      "text/plain": [
       "[20/(4*y - 1)]"
      ]
     },
     "execution_count": 4,
     "metadata": {},
     "output_type": "execute_result"
    }
   ],
   "source": [
    "y = sym.symbols('y')\n",
    "expr = x/4 - x*y + 5\n",
    "\n",
    "sym.solve(expr, x)"
   ]
  },
  {
   "cell_type": "markdown",
   "metadata": {},
   "source": [
    "#1"
   ]
  },
  {
   "cell_type": "code",
   "execution_count": 5,
   "metadata": {},
   "outputs": [
    {
     "data": {
      "text/latex": [
       "$\\displaystyle q=\\left[ \\frac{1}{2} - \\frac{\\sqrt{7}}{2}, \\  \\frac{1}{2} + \\frac{\\sqrt{7}}{2}\\right]$"
      ],
      "text/plain": [
       "<IPython.core.display.Math object>"
      ]
     },
     "metadata": {},
     "output_type": "display_data"
    }
   ],
   "source": [
    "q = sym.symbols('q')\n",
    "# homogenous form\n",
    "# exp = 3*q + (4/q) + 3 = 5*q + (1/q) + 1\n",
    "eq = 3*q + 4/q + 3 - 5*q - 1/q - 1 # to neg\n",
    "display(Math('q=' + sym.latex(sym.solve(eq, q)))) # solve"
   ]
  },
  {
   "cell_type": "markdown",
   "metadata": {},
   "source": [
    "#2"
   ]
  },
  {
   "cell_type": "code",
   "execution_count": 6,
   "metadata": {},
   "outputs": [
    {
     "data": {
      "text/latex": [
       "$\\displaystyle 3 q^{2} + 2 q - \\frac{5}{q} - \\frac{4}{q^{3}}$"
      ],
      "text/plain": [
       "<IPython.core.display.Math object>"
      ]
     },
     "metadata": {},
     "output_type": "display_data"
    },
    {
     "data": {
      "text/latex": [
       "$\\displaystyle 3 q^{2} + 2 q - \\frac{5}{q} - \\frac{4}{q^{3}}$"
      ],
      "text/plain": [
       "<IPython.core.display.Math object>"
      ]
     },
     "metadata": {},
     "output_type": "display_data"
    },
    {
     "data": {
      "text/latex": [
       "$\\displaystyle \\frac{3 q^{5} + 2 q^{4} - 5 q^{2} - 4}{q^{3}}$"
      ],
      "text/plain": [
       "<IPython.core.display.Math object>"
      ]
     },
     "metadata": {},
     "output_type": "display_data"
    }
   ],
   "source": [
    "# 2\n",
    "eq = 2*q + 3*q**2 - 5/q - 4/q**3\n",
    "\n",
    "display(Math((sym.latex(eq))))\n",
    "display(Math((sym.latex(sym.simplify(eq)))))\n",
    "display(Math((sym.latex(sym.cancel(eq)))))"
   ]
  },
  {
   "cell_type": "markdown",
   "metadata": {},
   "source": [
    "#3 "
   ]
  },
  {
   "cell_type": "code",
   "execution_count": 7,
   "metadata": {},
   "outputs": [
    {
     "data": {
      "text/latex": [
       "$\\displaystyle \\frac{\\sqrt{15} q + \\sqrt{3}}{\\sqrt{10} q + \\sqrt{2}}$"
      ],
      "text/plain": [
       "<IPython.core.display.Math object>"
      ]
     },
     "metadata": {},
     "output_type": "display_data"
    },
    {
     "data": {
      "text/latex": [
       "$\\displaystyle \\frac{\\sqrt{6}}{2}$"
      ],
      "text/plain": [
       "<IPython.core.display.Math object>"
      ]
     },
     "metadata": {},
     "output_type": "display_data"
    }
   ],
   "source": [
    "expr = (sym.sqrt(3) + sym.sqrt(15)*q) / (sym.sqrt(2) + sym.sqrt(10)*q)\n",
    "display(Math(sym.latex(expr)))\n",
    "display(Math(sym.latex(sym.simplify(expr))))\n"
   ]
  },
  {
   "cell_type": "code",
   "execution_count": 8,
   "metadata": {},
   "outputs": [
    {
     "data": {
      "text/latex": [
       "$\\displaystyle 1.22474487139159$"
      ],
      "text/plain": [
       "1.22474487139159"
      ]
     },
     "execution_count": 8,
     "metadata": {},
     "output_type": "execute_result"
    }
   ],
   "source": [
    "expr.subs(q,10).evalf()"
   ]
  },
  {
   "cell_type": "markdown",
   "metadata": {},
   "source": [
    "# expansion"
   ]
  },
  {
   "cell_type": "markdown",
   "metadata": {},
   "source": [
    "distribution:\n",
    "where a(b+c) = ab + ac"
   ]
  },
  {
   "cell_type": "code",
   "execution_count": 9,
   "metadata": {},
   "outputs": [
    {
     "data": {
      "text/plain": [
       "True"
      ]
     },
     "execution_count": 9,
     "metadata": {},
     "output_type": "execute_result"
    }
   ],
   "source": [
    "from sympy.abc import x # same as symbols below\n",
    "term1 = (4*x + 5)\n",
    "term2 = sym.symbols('x')\n",
    "term3 = x\n",
    "term3 == term2"
   ]
  },
  {
   "cell_type": "code",
   "execution_count": 10,
   "metadata": {},
   "outputs": [
    {
     "data": {
      "text/latex": [
       "$\\displaystyle x \\left(4 x + 5\\right)$"
      ],
      "text/plain": [
       "x*(4*x + 5)"
      ]
     },
     "execution_count": 10,
     "metadata": {},
     "output_type": "execute_result"
    }
   ],
   "source": [
    "term1*term2"
   ]
  },
  {
   "cell_type": "code",
   "execution_count": 11,
   "metadata": {},
   "outputs": [
    {
     "data": {
      "text/latex": [
       "$\\displaystyle x \\left(- \\frac{5^{x}}{x} + 2 y^{2}\\right)$"
      ],
      "text/plain": [
       "<IPython.core.display.Math object>"
      ]
     },
     "metadata": {},
     "output_type": "display_data"
    },
    {
     "data": {
      "text/latex": [
       "$\\displaystyle - 5^{x} + 2 x y^{2}$"
      ],
      "text/plain": [
       "<IPython.core.display.Math object>"
      ]
     },
     "metadata": {},
     "output_type": "display_data"
    }
   ],
   "source": [
    "expr = x*(2*y**2 - 5**x/x)\n",
    "display(Math(sym.latex(expr)))\n",
    "display(Math(sym.latex(sym.expand(expr))))\n"
   ]
  },
  {
   "cell_type": "code",
   "execution_count": 12,
   "metadata": {},
   "outputs": [
    {
     "name": "stdout",
     "output_type": "stream",
     "text": [
      "Variable   Type        Data/Info\n",
      "--------------------------------\n",
      "Math       type        <class 'IPython.core.display.Math'>\n",
      "display    function    <function display at 0x1089a6290>\n",
      "eq         Add         3*q**2 + 2*q - 5/q - 4/q**3\n",
      "exp        Add         x**2 - 4\n",
      "expr       Mul         x*(-5**x/x + 2*y**2)\n",
      "i          int         1\n",
      "np         module      <module 'numpy' from '/Us<...>kages/numpy/__init__.py'>\n",
      "q          Symbol      q\n",
      "sol        list        n=2\n",
      "sym        module      <module 'sympy' from '/Us<...>kages/sympy/__init__.py'>\n",
      "term1      Add         4*x + 5\n",
      "term2      Symbol      x\n",
      "term3      Symbol      x\n",
      "x          Symbol      x\n",
      "y          Symbol      y\n"
     ]
    }
   ],
   "source": [
    "%whos"
   ]
  },
  {
   "cell_type": "code",
   "execution_count": 13,
   "metadata": {},
   "outputs": [],
   "source": [
    "from sympy.abc import x, y"
   ]
  },
  {
   "cell_type": "code",
   "execution_count": 14,
   "metadata": {},
   "outputs": [
    {
     "name": "stdout",
     "output_type": "stream",
     "text": [
      "when x = 0 and y = 0, f(xy) = 8 \n",
      "when x = 0 and y = 1, f(xy) = 4 \n",
      "when x = 0 and y = 2, f(xy) = 0 \n",
      "when x = 1 and y = 0, f(xy) = 10 \n",
      "when x = 1 and y = 1, f(xy) = 5 \n",
      "when x = 1 and y = 2, f(xy) = 0 \n",
      "when x = 2 and y = 0, f(xy) = 12 \n",
      "when x = 2 and y = 1, f(xy) = 6 \n",
      "when x = 2 and y = 2, f(xy) = 0 \n"
     ]
    }
   ],
   "source": [
    "fxy = (4+x)*(2-y)\n",
    "evals = range(0,3)\n",
    "\n",
    "for xi in evals:\n",
    "    for yi in evals:\n",
    "        res_i=fxy.subs({x:xi, y:yi})\n",
    "        print('when x = %g and y = %g, f(xy) = %g ' %(xi,yi, res_i))"
   ]
  },
  {
   "cell_type": "markdown",
   "metadata": {},
   "source": [
    "# Matrices"
   ]
  },
  {
   "cell_type": "code",
   "execution_count": 15,
   "metadata": {},
   "outputs": [
    {
     "data": {
      "text/latex": [
       "$\\displaystyle \\left[\\begin{matrix}1 & 2\\\\3 & 4\\end{matrix}\\right]$"
      ],
      "text/plain": [
       "<IPython.core.display.Math object>"
      ]
     },
     "metadata": {},
     "output_type": "display_data"
    }
   ],
   "source": [
    "a = np.array([[1,2], [3,4]])\n",
    "display(Math(sym.latex(sym.simplify(a))))"
   ]
  },
  {
   "cell_type": "code",
   "execution_count": 16,
   "metadata": {},
   "outputs": [
    {
     "data": {
      "text/latex": [
       "$\\displaystyle \\left[\\begin{matrix}0.0 & 0.0 & 0.0 & 0.0\\\\0.0 & 0.0 & 0.0 & 0.0\\\\0.0 & 0.0 & 0.0 & 0.0\\\\0.0 & 0.0 & 0.0 & 0.0\\end{matrix}\\right]$"
      ],
      "text/plain": [
       "<IPython.core.display.Math object>"
      ]
     },
     "metadata": {},
     "output_type": "display_data"
    }
   ],
   "source": [
    "# create 0 mat\n",
    "mat =np.zeros([4,4])\n",
    "display(Math(sym.latex(sym.simplify(mat))))"
   ]
  },
  {
   "cell_type": "code",
   "execution_count": 17,
   "metadata": {},
   "outputs": [
    {
     "data": {
      "text/latex": [
       "$\\displaystyle \\left[\\begin{matrix}8.0 & 4.0 & 0.0 & -4.0\\\\10.0 & 5.0 & 0.0 & -5.0\\\\12.0 & 6.0 & 0.0 & -6.0\\\\14.0 & 7.0 & 0.0 & -7.0\\end{matrix}\\right]$"
      ],
      "text/plain": [
       "<IPython.core.display.Math object>"
      ]
     },
     "metadata": {},
     "output_type": "display_data"
    }
   ],
   "source": [
    "# matrix population\n",
    "from sympy.abc import x, y\n",
    "numrange = range(0,4)\n",
    "fxy = (4+x)*(2-y)\n",
    "\n",
    "for rowi in numrange:\n",
    "    for coli in numrange:\n",
    "        mat[rowi, coli] = fxy.subs({x:rowi, y:coli})\n",
    "        \n",
    "display(Math(sym.latex(sym.simplify(mat))))"
   ]
  },
  {
   "cell_type": "markdown",
   "metadata": {},
   "source": [
    "# Multiplication tables "
   ]
  },
  {
   "cell_type": "code",
   "execution_count": 18,
   "metadata": {},
   "outputs": [
    {
     "data": {
      "text/latex": [
       "$\\displaystyle \\left[\\begin{matrix}1 & 2 & 3 & 4 & 5 & 6 & 7 & 8 & 9 & 10\\\\2 & 4 & 6 & 8 & 10 & 12 & 14 & 16 & 18 & 20\\\\3 & 6 & 9 & 12 & 15 & 18 & 21 & 24 & 27 & 30\\\\4 & 8 & 12 & 16 & 20 & 24 & 28 & 32 & 36 & 40\\\\5 & 10 & 15 & 20 & 25 & 30 & 35 & 40 & 45 & 50\\\\6 & 12 & 18 & 24 & 30 & 36 & 42 & 48 & 54 & 60\\\\7 & 14 & 21 & 28 & 35 & 42 & 49 & 56 & 63 & 70\\\\8 & 16 & 24 & 32 & 40 & 48 & 56 & 64 & 72 & 80\\\\9 & 18 & 27 & 36 & 45 & 54 & 63 & 72 & 81 & 90\\\\10 & 20 & 30 & 40 & 50 & 60 & 70 & 80 & 90 & 100\\end{matrix}\\right]$"
      ],
      "text/plain": [
       "<IPython.core.display.Math object>"
      ]
     },
     "metadata": {},
     "output_type": "display_data"
    }
   ],
   "source": [
    "nums  = range(1,11)\n",
    "matmul = np.zeros([len(nums), len(nums)], dtype = int)\n",
    "for rowi in nums:\n",
    "    for coli in nums:\n",
    "        matmul[rowi -1, coli -1] = rowi * coli # index 0\n",
    "        \n",
    "display(Math(sym.latex(sym.simplify(matmul)))) # sympy object, then latex"
   ]
  },
  {
   "cell_type": "markdown",
   "metadata": {},
   "source": [
    "# expansion"
   ]
  },
  {
   "cell_type": "code",
   "execution_count": 19,
   "metadata": {},
   "outputs": [
    {
     "data": {
      "text/latex": [
       "$\\displaystyle x \\left(4 - 6 x\\right) + 3 x \\quad \\Longleftrightarrow \\quad - 6 x^{2} + 7 x$"
      ],
      "text/plain": [
       "<IPython.core.display.Math object>"
      ]
     },
     "metadata": {},
     "output_type": "display_data"
    },
    {
     "data": {
      "text/latex": [
       "$\\displaystyle \\frac{x^{2}}{4} - x \\left(\\frac{2}{x} + \\frac{4}{x^{2}}\\right) + 4 \\quad \\Longleftrightarrow \\quad \\frac{x^{2}}{4} + 2 - \\frac{4}{x}$"
      ],
      "text/plain": [
       "<IPython.core.display.Math object>"
      ]
     },
     "metadata": {},
     "output_type": "display_data"
    },
    {
     "data": {
      "text/latex": [
       "$\\displaystyle \\frac{\\left(x - 3\\right) \\left(x + 3\\right)}{9} \\quad \\Longleftrightarrow \\quad \\frac{x^{2}}{9} - 1$"
      ],
      "text/plain": [
       "<IPython.core.display.Math object>"
      ]
     },
     "metadata": {},
     "output_type": "display_data"
    }
   ],
   "source": [
    "# listed eq\n",
    "\n",
    "import sympy as sym\n",
    "x = sym.symbols('x')\n",
    "\n",
    "e1 = 2*x + x*(4-6 * x) + x\n",
    "e2 = -x * (2/x + 4/x**2) + 4 + x/4*x\n",
    "e3 = (x+3) * (x-3) * x*(1/(9*x))\n",
    "\n",
    "exprs = [e1, e2, e3]\n",
    "\n",
    "for expri in exprs:\n",
    "    display(Math('%s \\\\quad \\\\Longleftrightarrow \\\\quad %s' %(sym.latex(expri), sym.latex(sym.expand(expri)))))\n",
    "\n",
    "\n"
   ]
  },
  {
   "cell_type": "markdown",
   "metadata": {},
   "source": [
    "# gcd"
   ]
  },
  {
   "cell_type": "code",
   "execution_count": 20,
   "metadata": {},
   "outputs": [],
   "source": [
    "import math"
   ]
  },
  {
   "cell_type": "code",
   "execution_count": 21,
   "metadata": {},
   "outputs": [
    {
     "data": {
      "text/plain": [
       "8"
      ]
     },
     "execution_count": 21,
     "metadata": {},
     "output_type": "execute_result"
    }
   ],
   "source": [
    "a=16\n",
    "b=88\n",
    "math.gcd(a, b)"
   ]
  },
  {
   "cell_type": "code",
   "execution_count": 22,
   "metadata": {},
   "outputs": [],
   "source": [
    "from sympy.abc import a,b,c \n"
   ]
  },
  {
   "cell_type": "markdown",
   "metadata": {},
   "source": [
    "###### Exercise: Show that gcd(ca,cb) = cgcd(a,b)"
   ]
  },
  {
   "cell_type": "code",
   "execution_count": 23,
   "metadata": {},
   "outputs": [
    {
     "name": "stdout",
     "output_type": "stream",
     "text": [
      "1 True\n",
      "2 True\n",
      "3 True\n",
      "4 True\n",
      "5 True\n",
      "6 True\n",
      "7 True\n",
      "8 True\n",
      "9 True\n",
      "10 True\n"
     ]
    }
   ],
   "source": [
    "from random import randint\n",
    "\n",
    "# random int\n",
    "for i in range(1, 11):\n",
    "    a=randint(1,100)\n",
    "    b=randint(1,100)\n",
    "    c=randint(1,100)\n",
    "    # gcd(ca,cb) = cgcd(a,b)\n",
    "    print(i, math.gcd(c*a, c*b) == c * math.gcd(a, b))"
   ]
  },
  {
   "cell_type": "markdown",
   "metadata": {},
   "source": [
    "###### Exercise: \n",
    "1) create matrix 10 x 15 with each element =99\n",
    "\n",
    "\n",
    "2) populate matrix so that ith row and jth col = gcd(i+1, j+1)"
   ]
  },
  {
   "cell_type": "code",
   "execution_count": 24,
   "metadata": {},
   "outputs": [
    {
     "data": {
      "text/latex": [
       "$\\displaystyle \\left[\\begin{array}1.0 & 1.0 & 1.0 & 1.0 & 1.0 & 1.0 & 1.0 & 1.0 & 1.0 & 1.0 & 1.0 & 1.0 & 1.0 & 1.0 & 1.0\\\\1.0 & 2.0 & 1.0 & 2.0 & 1.0 & 2.0 & 1.0 & 2.0 & 1.0 & 2.0 & 1.0 & 2.0 & 1.0 & 2.0 & 1.0\\\\1.0 & 1.0 & 3.0 & 1.0 & 1.0 & 3.0 & 1.0 & 1.0 & 3.0 & 1.0 & 1.0 & 3.0 & 1.0 & 1.0 & 3.0\\\\1.0 & 2.0 & 1.0 & 4.0 & 1.0 & 2.0 & 1.0 & 4.0 & 1.0 & 2.0 & 1.0 & 4.0 & 1.0 & 2.0 & 1.0\\\\1.0 & 1.0 & 1.0 & 1.0 & 5.0 & 1.0 & 1.0 & 1.0 & 1.0 & 5.0 & 1.0 & 1.0 & 1.0 & 1.0 & 5.0\\\\1.0 & 2.0 & 3.0 & 2.0 & 1.0 & 6.0 & 1.0 & 2.0 & 3.0 & 2.0 & 1.0 & 6.0 & 1.0 & 2.0 & 3.0\\\\1.0 & 1.0 & 1.0 & 1.0 & 1.0 & 1.0 & 7.0 & 1.0 & 1.0 & 1.0 & 1.0 & 1.0 & 1.0 & 7.0 & 1.0\\\\1.0 & 2.0 & 1.0 & 4.0 & 1.0 & 2.0 & 1.0 & 8.0 & 1.0 & 2.0 & 1.0 & 4.0 & 1.0 & 2.0 & 1.0\\\\1.0 & 1.0 & 3.0 & 1.0 & 1.0 & 3.0 & 1.0 & 1.0 & 9.0 & 1.0 & 1.0 & 3.0 & 1.0 & 1.0 & 3.0\\\\1.0 & 2.0 & 1.0 & 2.0 & 5.0 & 2.0 & 1.0 & 2.0 & 1.0 & 10.0 & 1.0 & 2.0 & 1.0 & 2.0 & 5.0\\end{array}\\right]$"
      ],
      "text/plain": [
       "<IPython.core.display.Math object>"
      ]
     },
     "metadata": {},
     "output_type": "display_data"
    }
   ],
   "source": [
    "r = 10\n",
    "c = 15\n",
    "mat=np.zeros([r, c]) + 99 \n",
    "\n",
    "for ri in range(0,r):\n",
    "    for ci in range(0,c):\n",
    "        mat[ri, ci] = math.gcd(ri + 1, ci + 1)\n",
    "\n",
    "display(Math(sym.latex(sym.simplify(mat))))"
   ]
  },
  {
   "cell_type": "markdown",
   "metadata": {},
   "source": [
    "# Prime factorisation\n",
    "\n",
    "i.e. product of prime numbers "
   ]
  },
  {
   "cell_type": "code",
   "execution_count": 25,
   "metadata": {},
   "outputs": [
    {
     "name": "stdout",
     "output_type": "stream",
     "text": [
      "2  is a prime num\n",
      "3  is a prime num\n",
      "4  is not a prime number\n",
      "5  is a prime num\n",
      "6  is not a prime number\n",
      "7  is a prime num\n",
      "8  is not a prime number\n",
      "9  is not a prime number\n",
      "10  is not a prime number\n",
      "11  is a prime num\n",
      "12  is not a prime number\n",
      "13  is a prime num\n",
      "14  is not a prime number\n",
      "15  is not a prime number\n",
      "16  is not a prime number\n",
      "17  is a prime num\n",
      "18  is not a prime number\n",
      "19  is a prime num\n",
      "20  is not a prime number\n",
      "21  is not a prime number\n",
      "22  is not a prime number\n",
      "23  is a prime num\n",
      "24  is not a prime number\n",
      "25  is not a prime number\n",
      "26  is not a prime number\n",
      "27  is not a prime number\n",
      "28  is not a prime number\n",
      "29  is a prime num\n",
      "30  is not a prime number\n",
      "31  is a prime num\n",
      "32  is not a prime number\n",
      "33  is not a prime number\n",
      "34  is not a prime number\n",
      "35  is not a prime number\n",
      "36  is not a prime number\n",
      "37  is a prime num\n",
      "38  is not a prime number\n",
      "39  is not a prime number\n",
      "40  is not a prime number\n",
      "41  is a prime num\n",
      "42  is not a prime number\n",
      "43  is a prime num\n",
      "44  is not a prime number\n",
      "45  is not a prime number\n",
      "46  is not a prime number\n",
      "47  is a prime num\n",
      "48  is not a prime number\n",
      "49  is not a prime number\n",
      "50  is not a prime number\n",
      "51  is not a prime number\n",
      "52  is not a prime number\n",
      "53  is a prime num\n",
      "54  is not a prime number\n",
      "55  is not a prime number\n",
      "56  is not a prime number\n",
      "57  is not a prime number\n",
      "58  is not a prime number\n",
      "59  is a prime num\n",
      "60  is not a prime number\n",
      "61  is a prime num\n",
      "62  is not a prime number\n",
      "63  is not a prime number\n",
      "64  is not a prime number\n",
      "65  is not a prime number\n",
      "66  is not a prime number\n",
      "67  is a prime num\n",
      "68  is not a prime number\n",
      "69  is not a prime number\n",
      "70  is not a prime number\n",
      "71  is a prime num\n",
      "72  is not a prime number\n",
      "73  is a prime num\n",
      "74  is not a prime number\n",
      "75  is not a prime number\n",
      "76  is not a prime number\n",
      "77  is not a prime number\n",
      "78  is not a prime number\n",
      "79  is a prime num\n",
      "80  is not a prime number\n",
      "81  is not a prime number\n",
      "82  is not a prime number\n",
      "83  is a prime num\n",
      "84  is not a prime number\n",
      "85  is not a prime number\n",
      "86  is not a prime number\n",
      "87  is not a prime number\n",
      "88  is not a prime number\n",
      "89  is a prime num\n",
      "90  is not a prime number\n",
      "91  is not a prime number\n",
      "92  is not a prime number\n",
      "93  is not a prime number\n",
      "94  is not a prime number\n",
      "95  is not a prime number\n",
      "96  is not a prime number\n",
      "97  is a prime num\n",
      "98  is not a prime number\n",
      "99  is not a prime number\n"
     ]
    }
   ],
   "source": [
    "for i in range(2, 100):\n",
    "        dictt=sym.factorint(i)\n",
    "        if len(dictt.keys()) > 1 or max(dictt.values()) > 1:\n",
    "            print(i, ' is not a prime number')\n",
    "        else:\n",
    "            print(i, ' is a prime num')"
   ]
  },
  {
   "cell_type": "markdown",
   "metadata": {},
   "source": [
    "# inequalities \n",
    "\n"
   ]
  },
  {
   "cell_type": "code",
   "execution_count": 26,
   "metadata": {},
   "outputs": [
    {
     "data": {
      "text/latex": [
       "$\\displaystyle 2 < x \\wedge x < \\infty$"
      ],
      "text/plain": [
       "<IPython.core.display.Math object>"
      ]
     },
     "metadata": {},
     "output_type": "display_data"
    }
   ],
   "source": [
    "x=sym.symbols('x')\n",
    "expr = 4*x > 8\n",
    "display(Math(sym.latex(sym.solve(expr))))"
   ]
  },
  {
   "cell_type": "code",
   "execution_count": 27,
   "metadata": {},
   "outputs": [
    {
     "data": {
      "text/latex": [
       "$\\displaystyle \\left(-\\infty < x \\wedge x < -3\\right) \\vee \\left(1 < x \\wedge x < \\infty\\right)$"
      ],
      "text/plain": [
       "<IPython.core.display.Math object>"
      ]
     },
     "metadata": {},
     "output_type": "display_data"
    }
   ],
   "source": [
    "expr2 = (x-1) * (x+3) > 0\n",
    "display(Math(sym.latex(sym.solve(expr2))))"
   ]
  },
  {
   "cell_type": "markdown",
   "metadata": {},
   "source": [
    "# polynomials"
   ]
  },
  {
   "cell_type": "code",
   "execution_count": 28,
   "metadata": {},
   "outputs": [
    {
     "data": {
      "text/latex": [
       "$\\displaystyle 2 x^{5} + x^{2} - x$"
      ],
      "text/plain": [
       "<IPython.core.display.Math object>"
      ]
     },
     "metadata": {},
     "output_type": "display_data"
    }
   ],
   "source": [
    "from sympy.abc import x\n",
    "\n",
    "p1 = 2*x**5 + x**2 -x\n",
    "p2 = x**3 - x**4 - 4*x**2\n",
    "display(Math(sym.latex(p1)))"
   ]
  },
  {
   "cell_type": "code",
   "execution_count": 29,
   "metadata": {},
   "outputs": [
    {
     "name": "stdout",
     "output_type": "stream",
     "text": [
      "sum of coef =  3\n",
      "count of coef =  2\n",
      "count of coef =  2\n"
     ]
    }
   ],
   "source": [
    "# if even sum, if odd count\n",
    "p1 = sym.poly(x**2 + 2*x)\n",
    "p2 = sym.poly(-x**3 + 4*x)\n",
    "p3 = sym.poly(x**5 - x**4 + x/4 + 4)\n",
    "\n",
    "ps = [p1, p2, p3]\n",
    "\n",
    "for p in ps:\n",
    "    if p.degree() % 2 == 0:\n",
    "        print('sum of coef = ', sum(p1.coeffs()))\n",
    "    else: \n",
    "        print('count of coef = ', len(p1.coeffs()))"
   ]
  },
  {
   "cell_type": "code",
   "execution_count": 30,
   "metadata": {},
   "outputs": [
    {
     "data": {
      "text/latex": [
       "$\\displaystyle x^5 + x^3 = x^8$"
      ],
      "text/plain": [
       "<IPython.core.display.Math object>"
      ]
     },
     "metadata": {},
     "output_type": "display_data"
    }
   ],
   "source": [
    "# add the exponents where base is the same (law of exp)\n",
    "\n",
    "x = sym.symbols('x')\n",
    "display(Math('x^5 + x^3 = x^8'))\n",
    "\n"
   ]
  },
  {
   "cell_type": "code",
   "execution_count": 31,
   "metadata": {},
   "outputs": [
    {
     "data": {
      "text/latex": [
       "$\\displaystyle 4 x^{5} - 2 x^{4} - 4 x^{2} + 2 x$"
      ],
      "text/plain": [
       "4*x**5 - 2*x**4 - 4*x**2 + 2*x"
      ]
     },
     "execution_count": 31,
     "metadata": {},
     "output_type": "execute_result"
    }
   ],
   "source": [
    "p1 = 4*x**2 - 2*x\n",
    "p2 = x**3 -1 \n",
    "sym.expand(p1*p2)"
   ]
  },
  {
   "cell_type": "code",
   "execution_count": 32,
   "metadata": {},
   "outputs": [],
   "source": [
    "# exercise: \n",
    "\n",
    "# subs y = -2, x = 5 into fxy * gxy (below)"
   ]
  },
  {
   "cell_type": "code",
   "execution_count": 33,
   "metadata": {},
   "outputs": [],
   "source": [
    "fxy = 4*x**4 - 3*x**2 + x*y**2 - 9*y**3\n",
    "gxy = -x**3 + 6*x**2*y + 0.8*y**3"
   ]
  },
  {
   "cell_type": "code",
   "execution_count": 34,
   "metadata": {},
   "outputs": [
    {
     "data": {
      "text/latex": [
       "$\\displaystyle {4 x^{4} - 3 x^{2} + x y^{2} - 9 y^{3}} \\times {- x^{3} + 6 x^{2} y + 0.8 y^{3}} = - 4 x^{7} + 24 x^{6} y + 3 x^{5} + 3.2 x^{4} y^{3} - x^{4} y^{2} - 18 x^{4} y + 15 x^{3} y^{3} - 54 x^{2} y^{4} - 2.4 x^{2} y^{3} + 0.8 x y^{5} - 7.2 y^{6}$"
      ],
      "text/plain": [
       "<IPython.core.display.Math object>"
      ]
     },
     "metadata": {},
     "output_type": "display_data"
    }
   ],
   "source": [
    "display(Math('{%s} \\\\times {%s} = %s' %(sym.latex(fxy), sym.latex(gxy), sym.latex(sym.expand(fxy*gxy)))))"
   ]
  },
  {
   "cell_type": "code",
   "execution_count": 35,
   "metadata": {},
   "outputs": [
    {
     "data": {
      "text/latex": [
       "$\\displaystyle -1085833.8$"
      ],
      "text/plain": [
       "-1085833.80000000"
      ]
     },
     "execution_count": 35,
     "metadata": {},
     "output_type": "execute_result"
    }
   ],
   "source": [
    "xval = 5 \n",
    "yval = -2 \n",
    "\n",
    "fg = fxy*gxy \n",
    "answer = fg.subs({y: yval, x:xval})\n",
    "answer"
   ]
  },
  {
   "cell_type": "code",
   "execution_count": 36,
   "metadata": {},
   "outputs": [
    {
     "data": {
      "text/latex": [
       "$\\displaystyle \\frac{x^{6} + 2 x^{4} + 6 x - 5}{x^{3} + 3} = \\frac{x^{6} + 2 x^{4} + 6 x - 5}{x^{3} + 3} $"
      ],
      "text/plain": [
       "<IPython.core.display.Math object>"
      ]
     },
     "metadata": {},
     "output_type": "display_data"
    },
    {
     "data": {
      "text/latex": [
       "$\\displaystyle \\frac{x^{6} + 2 x^{4} + 6 x - 6}{x^{3} + 3} = \\frac{x^{6} + 2 x^{4} + 6 x - 6}{x^{3} + 3} $"
      ],
      "text/plain": [
       "<IPython.core.display.Math object>"
      ]
     },
     "metadata": {},
     "output_type": "display_data"
    },
    {
     "data": {
      "text/latex": [
       "$\\displaystyle \\frac{x^{6} + 2 x^{4} + 6 x - 7}{x^{3} + 3} = \\frac{x^{6} + 2 x^{4} + 6 x - 7}{x^{3} + 3} $"
      ],
      "text/plain": [
       "<IPython.core.display.Math object>"
      ]
     },
     "metadata": {},
     "output_type": "display_data"
    },
    {
     "data": {
      "text/latex": [
       "$\\displaystyle \\frac{x^{6} + 2 x^{4} + 6 x - 8}{x^{3} + 3} = \\frac{x^{6} + 2 x^{4} + 6 x - 8}{x^{3} + 3} $"
      ],
      "text/plain": [
       "<IPython.core.display.Math object>"
      ]
     },
     "metadata": {},
     "output_type": "display_data"
    },
    {
     "data": {
      "text/latex": [
       "$\\displaystyle \\frac{x^{6} + 2 x^{4} + 6 x - 9}{x^{3} + 3} = x^{3} + 2 x - 3 $"
      ],
      "text/plain": [
       "<IPython.core.display.Math object>"
      ]
     },
     "metadata": {},
     "output_type": "display_data"
    },
    {
     "data": {
      "text/latex": [
       "$\\displaystyle \\frac{x^{6} + 2 x^{4} + 6 x - 10}{x^{3} + 3} = \\frac{x^{6} + 2 x^{4} + 6 x - 10}{x^{3} + 3} $"
      ],
      "text/plain": [
       "<IPython.core.display.Math object>"
      ]
     },
     "metadata": {},
     "output_type": "display_data"
    },
    {
     "data": {
      "text/latex": [
       "$\\displaystyle \\frac{x^{6} + 2 x^{4} + 6 x - 11}{x^{3} + 3} = \\frac{x^{6} + 2 x^{4} + 6 x - 11}{x^{3} + 3} $"
      ],
      "text/plain": [
       "<IPython.core.display.Math object>"
      ]
     },
     "metadata": {},
     "output_type": "display_data"
    },
    {
     "data": {
      "text/latex": [
       "$\\displaystyle \\frac{x^{6} + 2 x^{4} + 6 x - 12}{x^{3} + 3} = \\frac{x^{6} + 2 x^{4} + 6 x - 12}{x^{3} + 3} $"
      ],
      "text/plain": [
       "<IPython.core.display.Math object>"
      ]
     },
     "metadata": {},
     "output_type": "display_data"
    },
    {
     "data": {
      "text/latex": [
       "$\\displaystyle \\frac{x^{6} + 2 x^{4} + 6 x - 13}{x^{3} + 3} = \\frac{x^{6} + 2 x^{4} + 6 x - 13}{x^{3} + 3} $"
      ],
      "text/plain": [
       "<IPython.core.display.Math object>"
      ]
     },
     "metadata": {},
     "output_type": "display_data"
    },
    {
     "data": {
      "text/latex": [
       "$\\displaystyle \\frac{x^{6} + 2 x^{4} + 6 x - 14}{x^{3} + 3} = \\frac{x^{6} + 2 x^{4} + 6 x - 14}{x^{3} + 3} $"
      ],
      "text/plain": [
       "<IPython.core.display.Math object>"
      ]
     },
     "metadata": {},
     "output_type": "display_data"
    },
    {
     "data": {
      "text/latex": [
       "$\\displaystyle \\frac{x^{6} + 2 x^{4} + 6 x - 15}{x^{3} + 3} = \\frac{x^{6} + 2 x^{4} + 6 x - 15}{x^{3} + 3} $"
      ],
      "text/plain": [
       "<IPython.core.display.Math object>"
      ]
     },
     "metadata": {},
     "output_type": "display_data"
    }
   ],
   "source": [
    "# division exercise - find the instance where the equality does not = a fraction\n",
    "\n",
    "p1 = x**6 + 2*x**4 + 6*x - y \n",
    "p2 = x**3 + 3\n",
    "\n",
    "for yi in range(5,16):\n",
    "    t = p1.subs(y, yi)\n",
    "    display(Math('%s = %s '%(sym.latex(t/p2), sym.latex(sym.simplify(t/p2)))))\n",
    "    \n",
    "    \n",
    "    \n",
    "    "
   ]
  },
  {
   "cell_type": "code",
   "execution_count": 37,
   "metadata": {},
   "outputs": [
    {
     "data": {
      "text/latex": [
       "$\\displaystyle x \\left(x + 4\\right)$"
      ],
      "text/plain": [
       "x*(x + 4)"
      ]
     },
     "execution_count": 37,
     "metadata": {},
     "output_type": "execute_result"
    }
   ],
   "source": [
    "# factoring\n",
    "x,y = sym.symbols('x,y')\n",
    "\n",
    "p = x**2 + 4*x\n",
    "sym.factor(p)"
   ]
  },
  {
   "cell_type": "code",
   "execution_count": 38,
   "metadata": {},
   "outputs": [
    {
     "data": {
      "text/latex": [
       "$\\displaystyle  x^{2} + 4 x + 3 \\Rightarrow \\left(x + 1\\right) \\left(x + 3\\right)$"
      ],
      "text/plain": [
       "<IPython.core.display.Math object>"
      ]
     },
     "metadata": {},
     "output_type": "display_data"
    },
    {
     "data": {
      "text/latex": [
       "$\\displaystyle  2 y^{2} - 1 \\Rightarrow Not factorable!!!$"
      ],
      "text/plain": [
       "<IPython.core.display.Math object>"
      ]
     },
     "metadata": {},
     "output_type": "display_data"
    },
    {
     "data": {
      "text/latex": [
       "$\\displaystyle  3 y^{2} + 12 y \\Rightarrow 3 y \\left(y + 4\\right)$"
      ],
      "text/plain": [
       "<IPython.core.display.Math object>"
      ]
     },
     "metadata": {},
     "output_type": "display_data"
    }
   ],
   "source": [
    "# find the non factorable instance \n",
    "e = [x**2 + 4*x + 3, 2*y**2 - 1, 3*y**2 + 12*y]\n",
    "\n",
    "for ei in e:\n",
    "    strfact = str(sym.factor(ei))    \n",
    "    if strfact.find('(') != -1: \n",
    "        display(Math(' %s \\\\Rightarrow %s' %(sym.latex(ei), sym.latex(sym.factor(ei)))))\n",
    "    else:\n",
    "        display(Math(' %s \\\\Rightarrow %s' %(sym.latex(ei), 'Not factorable!!!')))\n",
    "        \n"
   ]
  }
 ],
 "metadata": {
  "kernelspec": {
   "display_name": "Python 3",
   "language": "python",
   "name": "python3"
  },
  "language_info": {
   "codemirror_mode": {
    "name": "ipython",
    "version": 3
   },
   "file_extension": ".py",
   "mimetype": "text/x-python",
   "name": "python",
   "nbconvert_exporter": "python",
   "pygments_lexer": "ipython3",
   "version": "3.7.4"
  }
 },
 "nbformat": 4,
 "nbformat_minor": 2
}
